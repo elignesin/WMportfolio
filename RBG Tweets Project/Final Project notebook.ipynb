{
 "cells": [
  {
   "cell_type": "markdown",
   "metadata": {},
   "source": [
    "## Final Project Notebook\n",
    "\n",
    "This notebook handles the cleaning and subsetting of my corpus, as well as the sentiment analysis for the various subcorpora and some graphing with the results.\n",
    "\n",
    "Sentiment Analysis by Eli Gnesin  \n",
    "*Edited November 17, 2020*  "
   ]
  },
  {
   "cell_type": "code",
   "execution_count": 2,
   "metadata": {},
   "outputs": [],
   "source": [
    "#Import necessary modules\n",
    "import pandas as pd\n",
    "import numpy as np\n",
    "import seaborn as sns\n",
    "import matplotlib.pyplot as plt\n",
    "import csv\n",
    "import os\n",
    "from langdetect import detect"
   ]
  },
  {
   "cell_type": "code",
   "execution_count": 2,
   "metadata": {},
   "outputs": [
    {
     "name": "stderr",
     "output_type": "stream",
     "text": [
      "C:\\Users\\eli\\Anaconda3\\lib\\site-packages\\IPython\\core\\interactiveshell.py:3058: DtypeWarning: Columns (0) have mixed types. Specify dtype option on import or set low_memory=False.\n",
      "  interactivity=interactivity, compiler=compiler, result=result)\n"
     ]
    }
   ],
   "source": [
    "#Read in the data as a DataFrame to look at\n",
    "data = pd.read_csv(\"RBG ids.csv\")"
   ]
  },
  {
   "cell_type": "code",
   "execution_count": 3,
   "metadata": {},
   "outputs": [
    {
     "data": {
      "text/html": [
       "<div>\n",
       "<style scoped>\n",
       "    .dataframe tbody tr th:only-of-type {\n",
       "        vertical-align: middle;\n",
       "    }\n",
       "\n",
       "    .dataframe tbody tr th {\n",
       "        vertical-align: top;\n",
       "    }\n",
       "\n",
       "    .dataframe thead th {\n",
       "        text-align: right;\n",
       "    }\n",
       "</style>\n",
       "<table border=\"1\" class=\"dataframe\">\n",
       "  <thead>\n",
       "    <tr style=\"text-align: right;\">\n",
       "      <th></th>\n",
       "      <th>coordinates</th>\n",
       "      <th>created_at</th>\n",
       "      <th>hashtags</th>\n",
       "      <th>media</th>\n",
       "      <th>urls</th>\n",
       "      <th>favorite_count</th>\n",
       "      <th>id</th>\n",
       "      <th>in_reply_to_screen_name</th>\n",
       "      <th>in_reply_to_status_id</th>\n",
       "      <th>in_reply_to_user_id</th>\n",
       "      <th>...</th>\n",
       "      <th>user_followers_count</th>\n",
       "      <th>user_friends_count</th>\n",
       "      <th>user_listed_count</th>\n",
       "      <th>user_location</th>\n",
       "      <th>user_name</th>\n",
       "      <th>user_screen_name.1</th>\n",
       "      <th>user_statuses_count</th>\n",
       "      <th>user_time_zone</th>\n",
       "      <th>user_urls</th>\n",
       "      <th>user_verified</th>\n",
       "    </tr>\n",
       "  </thead>\n",
       "  <tbody>\n",
       "    <tr>\n",
       "      <td>0</td>\n",
       "      <td>NaN</td>\n",
       "      <td>Thu Sep 10 13:07:32 +0000 2020</td>\n",
       "      <td>NaN</td>\n",
       "      <td>NaN</td>\n",
       "      <td>https://twitter.com/alaynatreene/status/130404...</td>\n",
       "      <td>0</td>\n",
       "      <td>1304043833898999808</td>\n",
       "      <td>NaN</td>\n",
       "      <td>NaN</td>\n",
       "      <td>NaN</td>\n",
       "      <td>...</td>\n",
       "      <td>5771</td>\n",
       "      <td>6294</td>\n",
       "      <td>36</td>\n",
       "      <td>White Plains, NY</td>\n",
       "      <td>stuart jones</td>\n",
       "      <td>gooner4evr</td>\n",
       "      <td>149808</td>\n",
       "      <td>NaN</td>\n",
       "      <td>NaN</td>\n",
       "      <td>False</td>\n",
       "    </tr>\n",
       "    <tr>\n",
       "      <td>1</td>\n",
       "      <td>NaN</td>\n",
       "      <td>Thu Sep 10 13:12:49 +0000 2020</td>\n",
       "      <td>NaN</td>\n",
       "      <td>NaN</td>\n",
       "      <td>NaN</td>\n",
       "      <td>0</td>\n",
       "      <td>1304045164378247170</td>\n",
       "      <td>NaN</td>\n",
       "      <td>NaN</td>\n",
       "      <td>NaN</td>\n",
       "      <td>...</td>\n",
       "      <td>8</td>\n",
       "      <td>61</td>\n",
       "      <td>0</td>\n",
       "      <td>NaN</td>\n",
       "      <td>Imam Iqbal</td>\n",
       "      <td>imam02111992</td>\n",
       "      <td>53</td>\n",
       "      <td>NaN</td>\n",
       "      <td>NaN</td>\n",
       "      <td>False</td>\n",
       "    </tr>\n",
       "    <tr>\n",
       "      <td>2</td>\n",
       "      <td>NaN</td>\n",
       "      <td>Thu Sep 10 13:17:25 +0000 2020</td>\n",
       "      <td>NaN</td>\n",
       "      <td>NaN</td>\n",
       "      <td>NaN</td>\n",
       "      <td>1</td>\n",
       "      <td>1304046322199207937</td>\n",
       "      <td>drisnya</td>\n",
       "      <td>1.304044e+18</td>\n",
       "      <td>87844934.0</td>\n",
       "      <td>...</td>\n",
       "      <td>8378</td>\n",
       "      <td>7432</td>\n",
       "      <td>72</td>\n",
       "      <td>South Carolina</td>\n",
       "      <td>david w. thompson</td>\n",
       "      <td>dwthompson1945</td>\n",
       "      <td>138093</td>\n",
       "      <td>NaN</td>\n",
       "      <td>NaN</td>\n",
       "      <td>False</td>\n",
       "    </tr>\n",
       "    <tr>\n",
       "      <td>3</td>\n",
       "      <td>NaN</td>\n",
       "      <td>Thu Sep 10 13:11:19 +0000 2020</td>\n",
       "      <td>NaN</td>\n",
       "      <td>NaN</td>\n",
       "      <td>NaN</td>\n",
       "      <td>0</td>\n",
       "      <td>1304044786190614529</td>\n",
       "      <td>NaN</td>\n",
       "      <td>NaN</td>\n",
       "      <td>NaN</td>\n",
       "      <td>...</td>\n",
       "      <td>498</td>\n",
       "      <td>1730</td>\n",
       "      <td>2</td>\n",
       "      <td>Long Island</td>\n",
       "      <td>John McGarry</td>\n",
       "      <td>coachjmcgarry</td>\n",
       "      <td>19948</td>\n",
       "      <td>NaN</td>\n",
       "      <td>NaN</td>\n",
       "      <td>False</td>\n",
       "    </tr>\n",
       "    <tr>\n",
       "      <td>4</td>\n",
       "      <td>NaN</td>\n",
       "      <td>Thu Sep 10 12:57:08 +0000 2020</td>\n",
       "      <td>NaN</td>\n",
       "      <td>NaN</td>\n",
       "      <td>NaN</td>\n",
       "      <td>0</td>\n",
       "      <td>1304041215294238720</td>\n",
       "      <td>NaN</td>\n",
       "      <td>NaN</td>\n",
       "      <td>NaN</td>\n",
       "      <td>...</td>\n",
       "      <td>49</td>\n",
       "      <td>459</td>\n",
       "      <td>0</td>\n",
       "      <td>NaN</td>\n",
       "      <td>Patti Mousseau</td>\n",
       "      <td>PMoose63</td>\n",
       "      <td>9733</td>\n",
       "      <td>NaN</td>\n",
       "      <td>NaN</td>\n",
       "      <td>False</td>\n",
       "    </tr>\n",
       "  </tbody>\n",
       "</table>\n",
       "<p>5 rows × 34 columns</p>\n",
       "</div>"
      ],
      "text/plain": [
       "  coordinates                      created_at hashtags media  \\\n",
       "0         NaN  Thu Sep 10 13:07:32 +0000 2020      NaN   NaN   \n",
       "1         NaN  Thu Sep 10 13:12:49 +0000 2020      NaN   NaN   \n",
       "2         NaN  Thu Sep 10 13:17:25 +0000 2020      NaN   NaN   \n",
       "3         NaN  Thu Sep 10 13:11:19 +0000 2020      NaN   NaN   \n",
       "4         NaN  Thu Sep 10 12:57:08 +0000 2020      NaN   NaN   \n",
       "\n",
       "                                                urls  favorite_count  \\\n",
       "0  https://twitter.com/alaynatreene/status/130404...               0   \n",
       "1                                                NaN               0   \n",
       "2                                                NaN               1   \n",
       "3                                                NaN               0   \n",
       "4                                                NaN               0   \n",
       "\n",
       "                    id in_reply_to_screen_name  in_reply_to_status_id  \\\n",
       "0  1304043833898999808                     NaN                    NaN   \n",
       "1  1304045164378247170                     NaN                    NaN   \n",
       "2  1304046322199207937                 drisnya           1.304044e+18   \n",
       "3  1304044786190614529                     NaN                    NaN   \n",
       "4  1304041215294238720                     NaN                    NaN   \n",
       "\n",
       "   in_reply_to_user_id  ... user_followers_count user_friends_count  \\\n",
       "0                  NaN  ...                 5771               6294   \n",
       "1                  NaN  ...                    8                 61   \n",
       "2           87844934.0  ...                 8378               7432   \n",
       "3                  NaN  ...                  498               1730   \n",
       "4                  NaN  ...                   49                459   \n",
       "\n",
       "  user_listed_count     user_location          user_name user_screen_name.1  \\\n",
       "0                36  White Plains, NY       stuart jones         gooner4evr   \n",
       "1                 0               NaN         Imam Iqbal       imam02111992   \n",
       "2                72    South Carolina  david w. thompson     dwthompson1945   \n",
       "3                 2       Long Island       John McGarry      coachjmcgarry   \n",
       "4                 0               NaN     Patti Mousseau           PMoose63   \n",
       "\n",
       "  user_statuses_count user_time_zone user_urls user_verified  \n",
       "0              149808            NaN       NaN         False  \n",
       "1                  53            NaN       NaN         False  \n",
       "2              138093            NaN       NaN         False  \n",
       "3               19948            NaN       NaN         False  \n",
       "4                9733            NaN       NaN         False  \n",
       "\n",
       "[5 rows x 34 columns]"
      ]
     },
     "execution_count": 3,
     "metadata": {},
     "output_type": "execute_result"
    }
   ],
   "source": [
    "data.head()"
   ]
  },
  {
   "cell_type": "code",
   "execution_count": 4,
   "metadata": {},
   "outputs": [
    {
     "data": {
      "text/plain": [
       "(3684687, 34)"
      ]
     },
     "execution_count": 4,
     "metadata": {},
     "output_type": "execute_result"
    }
   ],
   "source": [
    "data.shape"
   ]
  },
  {
   "cell_type": "code",
   "execution_count": 5,
   "metadata": {},
   "outputs": [
    {
     "data": {
      "text/plain": [
       "Index(['coordinates', 'created_at', 'hashtags', 'media', 'urls',\n",
       "       'favorite_count', 'id', 'in_reply_to_screen_name',\n",
       "       'in_reply_to_status_id', 'in_reply_to_user_id', 'lang', 'place',\n",
       "       'possibly_sensitive', 'retweet_count', 'retweet_id',\n",
       "       'retweet_screen_name', 'source', 'text', 'tweet_url', 'user_created_at',\n",
       "       'user_screen_name', 'user_default_profile_image', 'user_description',\n",
       "       'user_favourites_count', 'user_followers_count', 'user_friends_count',\n",
       "       'user_listed_count', 'user_location', 'user_name', 'user_screen_name.1',\n",
       "       'user_statuses_count', 'user_time_zone', 'user_urls', 'user_verified'],\n",
       "      dtype='object')"
      ]
     },
     "execution_count": 5,
     "metadata": {},
     "output_type": "execute_result"
    }
   ],
   "source": [
    "data.columns"
   ]
  },
  {
   "cell_type": "code",
   "execution_count": 13,
   "metadata": {
    "scrolled": false
   },
   "outputs": [
    {
     "name": "stdout",
     "output_type": "stream",
     "text": [
      "tweet100000\n",
      "tweet200000\n",
      "tweet300000\n",
      "tweet400000\n",
      "tweet500000\n",
      "tweet600000\n",
      "tweet700000\n",
      "tweet800000\n",
      "tweet900000\n",
      "tweet1000000\n",
      "tweet1100000\n",
      "tweet1200000\n",
      "tweet1300000\n",
      "tweet1400000\n",
      "tweet1500000\n",
      "tweet1600000\n",
      "tweet1700000\n",
      "tweet1800000\n",
      "tweet1900000\n",
      "tweet2000000\n",
      "tweet2100000\n",
      "tweet2200000\n",
      "tweet2300000\n",
      "tweet2400000\n",
      "tweet2500000\n",
      "tweet2600000\n",
      "tweet2700000\n",
      "tweet2800000\n",
      "tweet2900000\n",
      "tweet3000000\n",
      "tweet3100000\n",
      "tweet3200000\n",
      "tweet3300000\n",
      "tweet3400000\n",
      "tweet3500000\n",
      "tweet3600000\n"
     ]
    }
   ],
   "source": [
    "# Load tweet texts and remove out non-\"English\" tweets\n",
    "#This includes all tweets that \"detect\" does not read as English (Some emojis and links are also in this group)\n",
    "\n",
    "textcol = 17\n",
    "datafile = 'RBG ids.csv'\n",
    "\n",
    "fulltweets, tweetdata = [], []\n",
    "\n",
    "with open(datafile, 'r', encoding = 'UTF-8', errors = 'ignore') as infile:\n",
    "    inreader = csv.reader(infile)\n",
    "    header = next(inreader)  # skip header\n",
    "    i = 0\n",
    "    for row in inreader:\n",
    "        i = i+1\n",
    "        if i % 100000 == 0:\n",
    "            print(\"tweet\" + str(i))\n",
    "        try:\n",
    "            if detect(row[textcol]) == 'en':\n",
    "                fulltweets.append(row)\n",
    "                tweetdata.append(row[textcol])\n",
    "        except:\n",
    "            continue\n",
    "        \n",
    "nrtweets = len(tweetdata)"
   ]
  },
  {
   "cell_type": "code",
   "execution_count": 4,
   "metadata": {
    "scrolled": true
   },
   "outputs": [
    {
     "data": {
      "text/plain": [
       "3515866"
      ]
     },
     "execution_count": 4,
     "metadata": {},
     "output_type": "execute_result"
    }
   ],
   "source": [
    "#How Many tweets do we have?\n",
    "len(tweetdata)"
   ]
  },
  {
   "cell_type": "code",
   "execution_count": 71,
   "metadata": {},
   "outputs": [],
   "source": [
    "#Saving the fulltweet and tweetdata to CSV files\n",
    "\n",
    "dictionary = {'text': tweetdata}\n",
    "df = pd.DataFrame(dictionary)\n",
    "df.to_csv('tweetdata.csv', index = False)\n",
    "    \n",
    "#with open('fulltweets.csv', 'w', errors='ignore', encoding = 'utf-8') as f2:\n",
    "#    writer2 = csv.writer(f2)\n",
    "#    writer2.writerow(['coordinates', 'created_at', 'hashtags', 'media', 'urls',\n",
    "#       'favorite_count', 'id', 'in_reply_to_screen_name',\n",
    "#       'in_reply_to_status_id', 'in_reply_to_user_id', 'lang', 'place',\n",
    "#       'possibly_sensitive', 'retweet_count', 'retweet_id',\n",
    "#       'retweet_screen_name', 'source', 'text', 'tweet_url', 'user_created_at',\n",
    "#       'user_screen_name', 'user_default_profile_image', 'user_description',\n",
    "#       'user_favourites_count', 'user_followers_count', 'user_friends_count',\n",
    "#       'user_listed_count', 'user_location', 'user_name', 'user_screen_name.1',\n",
    "#       'user_statuses_count', 'user_time_zone', 'user_urls', 'user_verified'])\n",
    "#    writer2.writerows(fulltweets)"
   ]
  },
  {
   "cell_type": "code",
   "execution_count": 3,
   "metadata": {},
   "outputs": [
    {
     "data": {
      "text/plain": [
       "(3515866, 1)"
      ]
     },
     "execution_count": 3,
     "metadata": {},
     "output_type": "execute_result"
    }
   ],
   "source": [
    "tweetdata = pd.read_csv('tweetdata.csv')\n",
    "tweetdata.shape"
   ]
  },
  {
   "cell_type": "code",
   "execution_count": 39,
   "metadata": {},
   "outputs": [],
   "source": [
    "#Making my subcorpora\n",
    "before_tweets = [i[17] for i in fulltweets if int(i[1][8:10]) < 18]\n",
    "after_tweets1 = [i[17] for i in fulltweets if int(i[1][8:10]) == 18]\n",
    "after_tweets2 = [i[17] for i in fulltweets if int(i[1][8:10]) == 19]\n",
    "after_tweets3 = [i[17] for i in fulltweets if int(i[1][8:10]) == 20]\n",
    "after_tweets4 = [i[17] for i in fulltweets if int(i[1][8:10]) == 21]\n",
    "after_tweets5 = [i[17] for i in fulltweets if int(i[1][8:10]) == 22]\n",
    "\n",
    "jewishwords = ['jew', 'jews', 'jewish', 'judaism', 'kike', 'yid', 'zionist']\n",
    "jewishtweets = [i[17] for i in fulltweets if any(x in jewishwords for x in i[17].lower().split())]\n",
    "jewishtweets_comp = [i[17] for i in fulltweets if not any(x in jewishwords for x in i[17].lower().split())]\n",
    "\n",
    "femalewords = ['female', 'woman','women', 'womxn', 'bitch', 'whore']\n",
    "femaletweets = [i[17] for i in fulltweets if any(x in femalewords for x in i[17].lower().split())]\n",
    "femaletweets_comp = [i[17] for i in fulltweets if not any(x in femalewords for x in i[17].lower().split())]\n",
    "\n",
    "libwords = ['liberal', 'left', 'left-leaning', 'progressive']\n",
    "libtweets = [i[17] for i in fulltweets if any(x in libwords for x in i[17].lower().split())]\n",
    "libtweets_comp = [i[17] for i in fulltweets if not any(x in libwords for x in i[17].lower().split())]"
   ]
  },
  {
   "cell_type": "code",
   "execution_count": 40,
   "metadata": {},
   "outputs": [
    {
     "name": "stdout",
     "output_type": "stream",
     "text": [
      "9568\n",
      "125128\n",
      "2123737\n",
      "660129\n",
      "474365\n",
      "122939\n",
      "62121\n",
      "3453745\n",
      "188005\n",
      "3327861\n",
      "84941\n",
      "3430925\n"
     ]
    }
   ],
   "source": [
    "#How long are the subcorpora we're looking at\n",
    "\n",
    "print(len(before_tweets))\n",
    "print(len(after_tweets1))\n",
    "print(len(after_tweets2))\n",
    "print(len(after_tweets3))\n",
    "print(len(after_tweets4))\n",
    "print(len(after_tweets5))\n",
    "print(len(jewishtweets))\n",
    "print(len(jewishtweets_comp))\n",
    "print(len(femaletweets))\n",
    "print(len(femaletweets_comp))\n",
    "print(len(libtweets))\n",
    "print(len(libtweets_comp))"
   ]
  },
  {
   "cell_type": "code",
   "execution_count": 5,
   "metadata": {},
   "outputs": [
    {
     "name": "stdout",
     "output_type": "stream",
     "text": [
      "The Vader sentiment dictionary contains 7506 entries.\n",
      "The average valence is -0.18.\n"
     ]
    }
   ],
   "source": [
    "#This is the sentiment lexicon code given in class\n",
    "\n",
    "# Specify sentiment lexicon location\n",
    "sentdictfile = 'Vader_lex.csv' \n",
    "\n",
    "sentiment_dict = {}\n",
    "\n",
    "# Read data into dictionary\n",
    "with open(sentdictfile, 'r') as dictfile:\n",
    "    for row in csv.reader(dictfile):\n",
    "        if len(row) >= 2:\n",
    "            sentiment_dict[row[0]] = float(row[1])\n",
    "\n",
    "nr_entries = len(sentiment_dict)\n",
    "print('The Vader sentiment dictionary contains {} entries.'.format(nr_entries))\n",
    "\n",
    "avg_valence = sum([x[1] for x in sentiment_dict.items()]) / nr_entries\n",
    "print('The average valence is {:4.2f}.'.format(avg_valence))"
   ]
  },
  {
   "cell_type": "code",
   "execution_count": 42,
   "metadata": {},
   "outputs": [],
   "source": [
    "#This is the get sentiment code given in class\n",
    "\n",
    "def get_sentiment(texts, sentiment_dict, aggregation='simple'):\n",
    "    \"\"\"Return a sentiment value for each text in texts.\n",
    "    \n",
    "    Aggregation options: 'simple' sum (positive words - negative words),\n",
    "    or 'scaled' sum (simple sum / length of text).\n",
    "    \"\"\"\n",
    "    valences = [None] * len(texts)\n",
    "    for i in range(len(texts)):\n",
    "        simple = 0\n",
    "        wordlist = texts[i].split(' ')\n",
    "        for j in wordlist:\n",
    "            if j in sentiment_dict:\n",
    "                simple += sentiment_dict[j]\n",
    "        if aggregation == 'scaled':\n",
    "            valences[i] = simple / len(wordlist)\n",
    "        else:\n",
    "            valences[i] = simple\n",
    "    return valences"
   ]
  },
  {
   "cell_type": "code",
   "execution_count": 83,
   "metadata": {
    "scrolled": false
   },
   "outputs": [
    {
     "name": "stdout",
     "output_type": "stream",
     "text": [
      "before_tweets\n",
      "9568\n",
      "(9568, 1)\n",
      "Average simple sentiment: 0.081\n",
      "Average scaled sentiment: 0.004\n",
      "after_tweets1\n",
      "125128\n",
      "(125128, 1)\n",
      "Average simple sentiment: 0.244\n",
      "Average scaled sentiment: 0.002\n",
      "after_tweets2\n",
      "2123737\n",
      "(2123737, 1)\n",
      "Average simple sentiment: 0.048\n",
      "Average scaled sentiment: 0.000\n",
      "after_tweets3\n",
      "660129\n",
      "(660129, 1)\n",
      "Average simple sentiment: 0.081\n",
      "Average scaled sentiment: 0.003\n",
      "after_tweets4\n",
      "474365\n",
      "(474365, 1)\n",
      "Average simple sentiment: 0.023\n",
      "Average scaled sentiment: -0.001\n",
      "after_tweets5\n",
      "122939\n",
      "(122939, 1)\n",
      "Average simple sentiment: 0.026\n",
      "Average scaled sentiment: -0.000\n",
      "jewishtweets\n",
      "62121\n",
      "(62121, 1)\n",
      "Average simple sentiment: -1.898\n",
      "Average scaled sentiment: -0.076\n",
      "femaletweets\n",
      "188005\n",
      "(188005, 1)\n",
      "Average simple sentiment: -0.867\n",
      "Average scaled sentiment: -0.043\n",
      "libtweets\n",
      "84941\n",
      "(84941, 1)\n",
      "Average simple sentiment: -0.402\n",
      "Average scaled sentiment: -0.021\n"
     ]
    }
   ],
   "source": [
    "#This saved each subcorpus to a CSV and also ran the sentiment on each subcorpus\n",
    "\n",
    "mylist = [before_tweets, after_tweets1, after_tweets2, after_tweets3,\n",
    "         after_tweets4, after_tweets5, jewishtweets, femaletweets,\n",
    "         libtweets]\n",
    "mylist2 = ['before_tweets', 'after_tweets1', 'after_tweets2', 'after_tweets3',\n",
    "         'after_tweets4', 'after_tweets5', 'jewishtweets', 'femaletweets',\n",
    "         'libtweets']\n",
    "\n",
    "for i in range(len(mylist)):\n",
    "    file = mylist[i]\n",
    "    name = mylist2[i]\n",
    "    print(name)\n",
    "    print(len(file))\n",
    "    nrtexts = len(file)\n",
    "    dictionary = {name: file}\n",
    "    df = pd.DataFrame(dictionary)\n",
    "    print(df.shape)\n",
    "    df.to_csv('Subcorpora/'+ name +'.csv', index = False)\n",
    "    textsentiments_simple = get_sentiment(file, sentiment_dict, aggregation='simple')\n",
    "    textsentiments_scaled = get_sentiment(file, sentiment_dict, aggregation='scaled')\n",
    "    # Display averages\n",
    "    print('Average simple sentiment: {:5.3f}'.format(sum(textsentiments_simple)/nrtexts))\n",
    "    print('Average scaled sentiment: {:5.3f}'.format(sum(textsentiments_scaled)/nrtexts))"
   ]
  },
  {
   "cell_type": "code",
   "execution_count": 140,
   "metadata": {},
   "outputs": [
    {
     "name": "stdout",
     "output_type": "stream",
     "text": [
      "full corpus\n",
      "3515867\n",
      "[\"ICYMI with all the other stuff that happened yesterday, here's a reminder that Ted Cruz is on Trump's short list to replace RBG. \\nVOTE! https://t.co/j1928QQocE\"]\n",
      "Average simple sentiment: 0.058\n",
      "Average scaled sentiment: 0.001\n"
     ]
    }
   ],
   "source": [
    "#Looking at the sentiment for the full corpus\n",
    "\n",
    "with open('tweetdata.csv', encoding = 'UTF-8') as data:\n",
    "    reader = csv.reader(data)\n",
    "    text = list(reader)\n",
    "    print('full corpus')\n",
    "    print(len(text))\n",
    "    print(text[1])\n",
    "    nrtexts = len(text[1:])\n",
    "    textsentiments_simple = mod_get_sentiment(text[1:], sentiment_dict, aggregation='simple')\n",
    "    textsentiments_scaled = mod_get_sentiment(text[1:], sentiment_dict, aggregation='scaled')\n",
    "    # Display averages\n",
    "    print('Average simple sentiment: {:5.3f}'.format(sum(textsentiments_simple)/nrtexts))\n",
    "    print('Average scaled sentiment: {:5.3f}'.format(sum(textsentiments_scaled)/nrtexts))"
   ]
  },
  {
   "cell_type": "code",
   "execution_count": 145,
   "metadata": {
    "scrolled": false
   },
   "outputs": [
    {
     "name": "stdout",
     "output_type": "stream",
     "text": [
      "[0.08112458193980128, 0.24426906847383792, 0.04849348106647752, 0.08142469123459349, 0.023332454966136576, 0.026446449051973964]\n"
     ]
    },
    {
     "data": {
      "image/png": "[encoded data removed]",
      "text/plain": [
       "<Figure size 1600x960 with 2 Axes>"
      ]
     },
     "metadata": {},
     "output_type": "display_data"
    }
   ],
   "source": [
    "#Graphing sentiment and number of tweets by date\n",
    "\n",
    "alldates = ['Before', '9-18-20', '9-19-20', '9-20-20', '9-21-20', '9-22-20']\n",
    "datefiles = [before_tweets, after_tweets1, after_tweets2, after_tweets3, after_tweets4, after_tweets5]\n",
    "datesentiments = [(sum(get_sentiment(i, sentiment_dict, aggregation='simple'))/len(i)) for i in datefiles]\n",
    "print(datesentiments)\n",
    "\n",
    "plt.style.use('classic')\n",
    "plt.rcParams['figure.figsize']= (20,12)\n",
    "fig, ax1 = plt.subplots()\n",
    "ax2 = ax1.twinx()\n",
    "ax1.plot(alldates, datesentiments, c='green', linewidth=4)\n",
    "ax2.bar(alldates, [len(datefiles[i]) for i in range(len(datefiles))], color='blue', alpha = 0.5)\n",
    "ax2.grid(b=False)\n",
    "ax1.set_title('Texts and sentiment by date', size = 'x-large')\n",
    "ax1.set_xticklabels(alldates, rotation=0, size = 'large')\n",
    "ax1.set_ylabel('Average text sentiment', size = 'large')\n",
    "ax2.set_ylabel('Number of texts', size = 'large')\n",
    "plt.show()"
   ]
  },
  {
   "cell_type": "code",
   "execution_count": 75,
   "metadata": {
    "scrolled": true
   },
   "outputs": [
    {
     "data": {
      "text/html": [
       "<div>\n",
       "<style scoped>\n",
       "    .dataframe tbody tr th:only-of-type {\n",
       "        vertical-align: middle;\n",
       "    }\n",
       "\n",
       "    .dataframe tbody tr th {\n",
       "        vertical-align: top;\n",
       "    }\n",
       "\n",
       "    .dataframe thead th {\n",
       "        text-align: right;\n",
       "    }\n",
       "</style>\n",
       "<table border=\"1\" class=\"dataframe\">\n",
       "  <thead>\n",
       "    <tr style=\"text-align: right;\">\n",
       "      <th></th>\n",
       "      <th>before_tweets</th>\n",
       "    </tr>\n",
       "  </thead>\n",
       "  <tbody>\n",
       "    <tr>\n",
       "      <td>0</td>\n",
       "      <td>ICYMI with all the other stuff that happened y...</td>\n",
       "    </tr>\n",
       "    <tr>\n",
       "      <td>1</td>\n",
       "      <td>RT @war_noir: 2/\\nAlso 40x46mm RBG-6 MGL makes...</td>\n",
       "    </tr>\n",
       "    <tr>\n",
       "      <td>2</td>\n",
       "      <td>@drisnya RBG's health has been precarious for ...</td>\n",
       "    </tr>\n",
       "    <tr>\n",
       "      <td>3</td>\n",
       "      <td>RT @eacisneros: Economical approach to voting:...</td>\n",
       "    </tr>\n",
       "    <tr>\n",
       "      <td>4</td>\n",
       "      <td>RT @DevinCow: If you aren’t voting for Biden b...</td>\n",
       "    </tr>\n",
       "  </tbody>\n",
       "</table>\n",
       "</div>"
      ],
      "text/plain": [
       "                                       before_tweets\n",
       "0  ICYMI with all the other stuff that happened y...\n",
       "1  RT @war_noir: 2/\\nAlso 40x46mm RBG-6 MGL makes...\n",
       "2  @drisnya RBG's health has been precarious for ...\n",
       "3  RT @eacisneros: Economical approach to voting:...\n",
       "4  RT @DevinCow: If you aren’t voting for Biden b..."
      ]
     },
     "execution_count": 75,
     "metadata": {},
     "output_type": "execute_result"
    }
   ],
   "source": [
    "pd.read_csv('Subcorpora/before_tweets.csv').head()"
   ]
  },
  {
   "cell_type": "code",
   "execution_count": 6,
   "metadata": {
    "scrolled": false
   },
   "outputs": [
    {
     "name": "stdout",
     "output_type": "stream",
     "text": [
      "after_tweets1\n",
      "125129\n",
      "Average simple sentiment: 0.244\n",
      "Average scaled sentiment: 0.002\n",
      "after_tweets2\n",
      "2123738\n",
      "Average simple sentiment: 0.048\n",
      "Average scaled sentiment: 0.000\n",
      "after_tweets3\n",
      "660130\n",
      "Average simple sentiment: 0.081\n",
      "Average scaled sentiment: 0.003\n",
      "after_tweets4\n",
      "474366\n",
      "Average simple sentiment: 0.023\n",
      "Average scaled sentiment: -0.001\n",
      "after_tweets5\n",
      "122940\n",
      "Average simple sentiment: 0.026\n",
      "Average scaled sentiment: -0.000\n",
      "before_tweets\n",
      "9569\n",
      "Average simple sentiment: 0.081\n",
      "Average scaled sentiment: 0.004\n",
      "femaletweets\n",
      "188006\n",
      "Average simple sentiment: -0.867\n",
      "Average scaled sentiment: -0.043\n",
      "jewishtweets\n",
      "62122\n",
      "Average simple sentiment: -1.898\n",
      "Average scaled sentiment: -0.076\n",
      "libtweets\n",
      "84942\n",
      "Average simple sentiment: -0.402\n",
      "Average scaled sentiment: -0.021\n"
     ]
    }
   ],
   "source": [
    "#This modifies the previous code because the CSV files have a list for each observation\n",
    "#Therefore, we need to take the 0 index of the list, rather than the list itself\n",
    "\n",
    "def mod_get_sentiment(texts, sentiment_dict, aggregation='simple'): #Modified for list issues\n",
    "    \"\"\"Return a sentiment value for each text in texts.\n",
    "    \n",
    "    Aggregation options: 'simple' sum (positive words - negative words),\n",
    "    or 'scaled' sum (simple sum / length of text).\n",
    "    \"\"\"\n",
    "    valences = [None] * len(texts)\n",
    "    for i in range(len(texts)):\n",
    "        simple = 0\n",
    "        wordlist = texts[i][0].split(' ')\n",
    "        for j in wordlist:\n",
    "            if j in sentiment_dict:\n",
    "                simple += sentiment_dict[j]\n",
    "        if aggregation == 'scaled':\n",
    "            valences[i] = simple / len(wordlist)\n",
    "        else:\n",
    "            valences[i] = simple\n",
    "    return valences\n",
    "\n",
    "group = []\n",
    "sent = []\n",
    "sents = []\n",
    "\n",
    "for root, dirs, files in os.walk('Subcorpora'):\n",
    "    for f in files:\n",
    "        with open(os.path.join(root, f), encoding = 'UTF-8') as rf:\n",
    "            reader = csv.reader(rf)\n",
    "            text = list(reader)\n",
    "            title = f[:-4]\n",
    "            print(title)\n",
    "            print(len(text))\n",
    "            #print(text[1])\n",
    "            textsentiments_simple = mod_get_sentiment(text[1:], sentiment_dict, aggregation='simple')\n",
    "            textsentiments_scaled = mod_get_sentiment(text[1:], sentiment_dict, aggregation='scaled')\n",
    "            # Display averages\n",
    "            print('Average simple sentiment: {:5.3f}'.format(sum(textsentiments_simple)/len(text)))\n",
    "            print('Average scaled sentiment: {:5.3f}'.format(sum(textsentiments_scaled)/len(text)))\n",
    "            group.append(title)\n",
    "            sent.append(sum(textsentiments_simple)/len(text))\n",
    "            sents.append(sum(textsentiments_scaled)/len(text))"
   ]
  }
 ],
 "metadata": {
  "kernelspec": {
   "display_name": "Python 3 (ipykernel)",
   "language": "python",
   "name": "python3"
  },
  "language_info": {
   "codemirror_mode": {
    "name": "ipython",
    "version": 3
   },
   "file_extension": ".py",
   "mimetype": "text/x-python",
   "name": "python",
   "nbconvert_exporter": "python",
   "pygments_lexer": "ipython3",
   "version": "3.9.12"
  }
 },
 "nbformat": 4,
 "nbformat_minor": 2
}
